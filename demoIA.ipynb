{
 "cells": [
  {
   "cell_type": "code",
   "execution_count": null,
   "metadata": {},
   "outputs": [],
   "source": [
    "!pip install -q -U google-generativeai"
   ]
  },
  {
   "cell_type": "code",
   "execution_count": null,
   "metadata": {},
   "outputs": [],
   "source": [
    "import ipywidgets as widgets\n",
    "from IPython.display import display\n"
   ]
  },
  {
   "cell_type": "code",
   "execution_count": null,
   "metadata": {},
   "outputs": [],
   "source": [
    "import pathlib\n",
    "import textwrap\n",
    "\n",
    "import google.generativeai as genai\n",
    "\n",
    "from IPython.display import display\n",
    "from IPython.display import Markdown\n",
    "\n",
    "def to_markdown(text):\n",
    "  text = text.replace('•', '  *')\n",
    "  return Markdown(textwrap.indent(text, '> ', predicate=lambda _: True))\n"
   ]
  },
  {
   "cell_type": "code",
   "execution_count": null,
   "metadata": {},
   "outputs": [],
   "source": [
    "# Used to securely store your API key\n",
    "from google.colab import userdata"
   ]
  },
  {
   "cell_type": "code",
   "execution_count": null,
   "metadata": {},
   "outputs": [],
   "source": [
    "# Or use `os.getenv('GOOGLE_API_KEY')` to fetch an environment variable.\n",
    "GOOGLE_API_KEY=userdata.get('GOOGLE_API_KEY')\n",
    "\n",
    "genai.configure(api_key=GOOGLE_API_KEY)"
   ]
  },
  {
   "cell_type": "code",
   "execution_count": null,
   "metadata": {},
   "outputs": [],
   "source": [
    "model = genai.GenerativeModel('gemini-1.0-pro')"
   ]
  },
  {
   "cell_type": "code",
   "execution_count": null,
   "metadata": {},
   "outputs": [],
   "source": [
    "#modulo.py\n",
    "import ipywidgets as widgets\n",
    "from IPython.display import display\n",
    "\n",
    "class Tematica:\n",
    "    def __init__(self) -> None:\n",
    "        self.boton_misterio_widget = widgets.Button(description=\"Misterio\")\n",
    "        self.boton_aventura_widget = widgets.Button(description=\"Aventura\")\n",
    "        self.eleccion = 0\n",
    "        self.label=widgets.Label(value=\"Texto inicial\") \n",
    "    def boton_misterio(self, b) -> None:\n",
    "        self.eleccion = 1\n",
    "        self.label.value = f\"Elección: {self.eleccion}\"  # Actualizar el valor del Label\n",
    "        self.ocultar_boton(self.boton_misterio_widget)\n",
    "        self.ocultar_boton(self.boton_aventura_widget)\n",
    "    def boton_aventura(self, b) -> None:\n",
    "        self.eleccion = 2\n",
    "        self.label.value = f\"Elección: {self.eleccion}\"  # Actualizar el valor del Label\n",
    "        self.ocultar_boton(self.boton_aventura_widget)\n",
    "        self.ocultar_boton(self.boton_misterio_widget)\n",
    "    def ocultar_boton(self, boton) -> None:\n",
    "        boton.layout.visibility = 'hidden'\n",
    "    def mostrar_label(self)->None:\n",
    "        self.label = widgets.Label(value=f\"Elección inicial: {self.eleccion}\")\n",
    "        display(self.label)\n",
    "tematica = Tematica()"
   ]
  },
  {
   "cell_type": "code",
   "execution_count": null,
   "metadata": {},
   "outputs": [],
   "source": [
    "import ipywidgets as widgets\n",
    "from IPython.display import display\n",
    "\n",
    "class Estadistica:\n",
    "    def __init__(self ,description):\n",
    "        # Crear slider y contador\n",
    "        self.slider = widgets.IntSlider(value=0, min=0, max=4, description= description,disabled=True)\n",
    "        self.contador = 1\n",
    "        self.contador_label = widgets.Label(value=f\"Veces aumentado: {self.contador}\")\n",
    "        self.boton_decrementar = widgets.Button(description=\"Decrementar\")\n",
    "        self.boton_incrementar = widgets.Button(description=\"Incrementar\")\n",
    "    # Función para incrementar el slide\n",
    "    def incrementar(self,b):\n",
    "\n",
    "      if self.slider.value < self.slider.max:\n",
    "        self.slider.value += 1\n",
    "        self.contador+=1\n",
    "      elif self.contador>3:\n",
    "        self.fijar_slider()\n",
    "        self.slider.disabled = True\n",
    "    # Función para decrementar el slider\n",
    "    def decrementar(self,b):\n",
    "      \n",
    "      if not self.contador>3:\n",
    "        if self.slider.value > self.slider.min:\n",
    "          self.slider.value -= 1\n",
    "          self.contador-=1\n",
    "      else:  \n",
    "        self.fijar_slider()\n",
    "        self.slider.disabled = True\n",
    "\n",
    "    def fijar(self):\n",
    "        self.slider.disabled = True\n",
    "        self.boton_incrementar.disabled = True\n",
    "        self.boton_decrementar.disabled = True\n",
    "    def slider_cambio(self,cambio):\n",
    "        if self.contador<4:\n",
    "            #self.fijar_slider()\n",
    "            print(f\" Veces aumentado: {self.contador}\")\n",
    "        else:\n",
    "          self.fijar_slider()\n",
    "    def slider(self):\n",
    "        return self.slider\n",
    "    def mostrar_widgets(self):\n",
    "        display(self.slider, self.boton_incrementar, self.boton_decrementar, self.contador_label)\n",
    "\n",
    "\n",
    "#display(estdc.slider)\n",
    "global tematica\n",
    "tematica.boton_misterio_widget.on_click(tematica.boton_misterio)\n",
    "tematica.boton_aventura_widget.on_click(tematica.boton_aventura)\n",
    "display(tematica.boton_misterio_widget)\n",
    "display(tematica.boton_aventura_widget)\n",
    "tematica.mostrar_label()\n",
    "# Crear instancias de Estadistica\n",
    "estdc1 = Estadistica(\"Fuerza\")\n",
    "estdc2 = Estadistica(\"Inteligencia\")\n",
    "estdc3 = Estadistica(\"Agilidad\")\n",
    "\n",
    "# Lista de objetos Estadistica\n",
    "estadisticas = [estdc1, estdc2, estdc3]\n",
    "\n",
    "# Botón de confirmación global\n",
    "boton_confirmar_global = widgets.Button(description=\"Confirmar Estadísticas\")\n",
    "\n",
    "# Función para confirmar todas las estadísticas\n",
    "def confirmar_todas(b):\n",
    "    for estdc in estadisticas:\n",
    "        estdc.fijar()\n",
    "    boton_confirmar_global.disabled = True  # Deshabilitar el botón global\n",
    "\n",
    "# Conectar el botón global\n",
    "boton_confirmar_global.on_click(confirmar_todas)\n",
    "\n",
    "# Mostrar widgets\n",
    "for estdc in estadisticas:\n",
    "    estdc.boton_incrementar.on_click(estdc.incrementar)\n",
    "    estdc.boton_decrementar.on_click(estdc.decrementar)\n",
    "    estdc.mostrar_widgets()\n",
    "\n",
    "display(boton_confirmar_global)"
   ]
  },
  {
   "cell_type": "code",
   "execution_count": null,
   "metadata": {},
   "outputs": [],
   "source": [
    "%%time\n",
    "response = model.generate_content(\"Genera una aventura de tipo aventura sencilla para dungeong of dragon, teniendo en cuenta enemigos que sea lv 1\")\n"
   ]
  },
  {
   "cell_type": "code",
   "execution_count": null,
   "metadata": {},
   "outputs": [],
   "source": [
    "to_markdown(response.text)"
   ]
  }
 ],
 "metadata": {
  "kernelspec": {
   "display_name": "Python 3",
   "language": "python",
   "name": "python3"
  },
  "language_info": {
   "name": "python",
   "version": "3.13.1"
  }
 },
 "nbformat": 4,
 "nbformat_minor": 2
}
